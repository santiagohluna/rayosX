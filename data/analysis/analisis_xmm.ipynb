{
 "cells": [
  {
   "cell_type": "markdown",
   "id": "e684d02b-3b2b-491f-bed7-8794c4c9aac0",
   "metadata": {},
   "source": [
    "# Reducción y análisis de datos de observaciones de XMM Newton\n",
    "\n",
    "---\n",
    "\n",
    "A continuación se listan losp pasos a seguir para recalibrar, filtrar y obtener el espectro y curva de luz de una fuente puntual a partir de las observaciones \"crudas\" de XMM-Newton.\n",
    "\n",
    "## Reprocesamiento\n",
    "\n",
    "1. Apuntar la variable `SAS_ODF` a la carpeta donde se encuentran las observaciones, p. ej.:\n",
    "   `export SAS_ODF=/home/shluna/Proyectos/RX/objetos/rtcru/observaciones/xmm/0831790801`\n",
    "   Antes de continuar, se debe verificar que la variable `SAS_CCFPATH` esté definida en `.bashrc` apuntando a la carpeta donde se encuantran los archivos de calibración.\n",
    "2. Luego, ejecutar la tareas `cifbuild`, la cual crea el archivo `cif.ccf`.\n",
    "3. Apuntar la variable `SAS_CCF` a este último archivo:`export SAS_CCF=cif.ccf`.\n",
    "4. Ejecutar la tarea `odfingest` para actualizar el archivo de resumen `*SUM.SAS`.\n",
    "5. Apuntar la variable `SAS_ODF` al archivo de resumen actualizado: `export SAS_ODF=*SUM.SAS`.\n",
    "6. Por último, ejecutar las tareas `emproc`y `epproc` para reprocesar las observaciones de los detectores EPIC-MOS y EPIC-pn, respectivamente.\n",
    "\n",
    "## Filtrado de la lista de eventos\n",
    "\n",
    "Antes de comenzar conviene hacer una copia de seguridad de las listas eventos originales detectados por cada cámara. Estos están guardado en los archivos que finalizan `*Evts.ds`:\n",
    "\n",
    "- `cp 3522_0831790801_EPN_S003_ImagingEvts.ds PN.fits`\n",
    "- `cp 3522_0831790801_EMOS1_S001_ImagingEvts.ds M1.fits`\n",
    "- `cp 3522_0831790801_EMOS2_S002_ImagingEvts.ds M2.fits`\n",
    "\n",
    "Ahora sí, se comienza con el filtrado:\n",
    "\n",
    "1. Extraer una curva de luz de eventos singulares (con patrón “0”) a energías por encima de 10 keV para cada cámara (PN, MOS1, MOS2) para identificar los intervalos de alto background, usando la tarea `evselect` de SAS:\n",
    "\n",
    "    - `evselect table=PN.fits withrateset=Y rateset=ratesPN.fits maketimecolumn=Y timebinsize=100 makeratecolumn=Y expression='#XMMEA_EP && (PI>10000&&PI<12000) && (PATTERN==0)'`\n",
    "    - `evselect table=M1.fits withrateset=Y rateset=ratesM1.fits maketimecolumn=Y timebinsize=100 makeratecolumn=Y expression='#XMMEA_EM && (PI>10000) && (PATTERN==0)'`\n",
    "    - `evselect table=M2.fits withrateset=Y rateset=ratesM2.fits maketimecolumn=Y timebinsize=100 makeratecolumn=Y expression='#XMMEA_EM && (PI>10000) && (PATTERN==0)'`\n",
    "\n",
    "La curva de luz resultante puede ser visualizada usando dsplot: `dsplot table=rateEPIC.fits x=TIME y=RATE`\n",
    "\n",
    "2. Usando la tarea `tabgtigen` se determinan los intervalos de tiempo en los que la curva de luz es baja y constante eligiendo un límite o *threshold* (en cuentas por segundo) para crear el archivo GTI, `EPICgti.fits`:\n",
    "   \n",
    "   - `tabgtigen table=ratesPN.fits expression='RATE<=0.4' gtiset=PNgti.fits`\n",
    "   - `tabgtigen table=ratesM1.fits expression='RATE<=0.35' gtiset=M1gti.fits`\n",
    "   - `tabgtigen table=ratesM2.fits expression='RATE<=0.35' gtiset=M2gti.fits`\n",
    "\n",
    "3. Por último, usamos nuevamente `evselect` para generar la lista de eventos filtrada, `EPICclean.fits`:\n",
    "\n",
    "   - `evselect table=PN.fits withfilteredset=Y filteredset=PNclean.fits destruct=Y keepfilteroutput=T expression='#XMMEA_EP && gti(PNgti.fits,TIME) && (PI>150)'`\n",
    "   - `evselect table=M1.fits withfilteredset=Y filteredset=M1clean.fits destruct=Y keepfilteroutput=T expression='#XMMEA_EM && gti(M1gti.fits,TIME) && (PI>150)'`\n",
    "   - `evselect table=M2.fits withfilteredset=Y filteredset=M2clean.fits destruct=Y keepfilteroutput=T expression='#XMMEA_EM && gti(M2gti.fits,TIME) && (PI>150)'`\n",
    "\n",
    "## Obtención de la curva de luz\n",
    "\n",
    "1. En primer lugar, se deben inicializar las variables de entorno `SAS_ODF` y `SAS_CCF`:\n",
    "\n",
    "   - `export SAS_ODF=/home/shluna/Proyectos/RX/objetos/rtcru/observaciones/xmm/0831790801`\n",
    "   - `export SAS_CCF=ccf.cif`\n",
    "2. Abrir las imágenes `PNclean.img`, `M1clean.img` y `M2clean.img` usando `ds9` y seleccionar una región circular entorno a la fuente de la que se pretende generar la curva de luz. Haciendo doble-click sobre la región circular, y eligiendo coordenadas físicas en el despliegue, obtener las coordenadas del centro y el radio:\n",
    "\n",
    "3. Extraer la curva de luz de la fuente usando la región elegida e incluyendo una selección de eventos de calidad apropiada para la curva de luz y un agrupamiento de, por ejemplo, 5 segundos:\n",
    "\n",
    "   - `evselect table=PNclean.fits energycolumn=PI expression='(FLAG==0)&& (PATTERN<=4) && (PI in [300:10000]) && ((X,Y) IN circle(26996.578,24240.85,400.0))' withrateset=yes rateset=PN_src_raw.lc timebinsize=5 maketimecolumn=yes makeratecolumn=yes`\n",
    "   - \n",
    "4. Repetir el paso 2 para seleccionar una región con el fondo.\n",
    "5. Extraer la curva de luz del fondo, usando las mismas expresiones que para la fuente:\n",
    "\n",
    "   `evselect table=PNclean.fits energycolumn=PI expression='(FLAG==0) && (PATTERN<=4) && (PI in [300:10000]) && ((X,Y) IN circle(25434.659,23330.045,1000.00))' withrateset=yes rateset=PN_bkg_raw.lc timebinsize=5 maketimecolumn=yes makeratecolumn=yes`\n",
    "6. Estas curvas de luz deben ser corregidas por varios efectos que modifican la eficiencia del detector como el viñeteo, los pixeles malos o calientes, variación de la PSF y eficiencia cuántica, así como efectos de la estabilidad del satélite durante la exposición, como tiempos muertos o GTIs. La tarea `epiclccorr` de SAS realiza todas estas correcciones automáticamente por nosotros. Para ello deben suministrarse tanto la curva de luz de la fuente como la del fondo, así como la lista de eventos original filtrada:\n",
    "\n",
    "   `epiclccorr srctslist=PN_src_raw.lc eventlist=PNclean.fits outset=PN_lccorr.lc bkgtslist=PN_bkg_raw.lc withbkgset=yes applyabsolutecorrections=yes`\n",
    "7. La curva de luz resultante puede graficarse con `dsplot`, `fplot` o revisarse con `fv`:\n",
    "\n",
    "   `dsplot table=PN_lccorr.lc withx=yes x=TIME withy=yes y=RATE`\n",
    "\n",
    "## Obtención del espectro\n",
    "\n",
    "Para comenzar, se deben reptetir los pasos 1, 2 y 4 de los que se deben seguir para la obtención de la curva de luz de la fuente y del fondo, así como también la inicialización de las variables de entorno necesarias.\n",
    "\n",
    "1. Extraer el espectro de la fuente usando las expresiones de selección similares a las usadas para obtener las curvas de luz, y restringiendo los patrones a simples y dobles. Notar el rango de canales utilizados.\n",
    "\n",
    "   - `evselect table=PNclean.fits withspectrumset=yes spectrumset=PN_src_spectrum.fits energycolumn=PI spectralbinsize=5 withspecranges=yes specchannelmin=0 specchannelmax=20479 expression='(FLAG==0) && (PATTERN<=4) && ((X,Y) IN circle(26996.578,24240.85,400.00))'`\n",
    "\n",
    "2. Extraer el espectro del fondo:\n",
    "\n",
    "   - `evselect table=PNclean.fits withspectrumset=yes spectrumset=PN_src_bkg_spectrum.fits energycolumn=PI spectralbinsize=5 withspecranges=yes specchannelmin=0 specchannelmax=20479 expression='(FLAG==0) && (PATTERN<=4) && ((X,Y) IN circle(25434.659,23330.045,1000.0))'`\n",
    "3. Calcular el area de las regiones usadas para extraer la fuente y el fondo necesarias para pesar correctamente sus flujos mutuos. Las áreas son introducidas en un campo del header de los espectros denominado `BACKSCAL`:\n",
    "\n",
    "   - `backscale spectrumset=PN_src_spectrum.fits badpixlocation=PNclean.fits`\n",
    "   - `backscale spectrumset=PN_src_bkg_spectrum.fits badpixlocation=PNclean.fits`\n",
    "4. Usar la tarea rmfgen para crear una matriz de redistribución para el espectro extraído (esto puede llevar más de 30 minutos en computadoras pequeñas):\n",
    "\n",
    "   - `rmfgen spectrumset=PN_src_spectrum.fits rmfset=PN_src.rmf`\n",
    "5. Generar la matriz auxiliar. Para fuentes puntuales usar extendedsource=no detmaptype=psf. Para fuentes extendidas usar extendedsource=yes detmaptype=flat o bien generar un mapa de exposición con la tarea expmap).\n",
    "\n",
    "   - `arfgen spectrumset=PN_src_spectrum.fits arfset=PN_src.arf withrmfset=yes rmfset=PN_src.rmf badpixlocation=PNclean.fits extendedsource=no detmaptype=psf`\n",
    "6. Reagrupar el espectro y vincularlo a los archivos asociados tales como el espectro del fondo y las matrices (RMF y ARF). En el ejemplo reagrupamos a un mínimo de 16 cuentas por canal asegurando que el reagrupamiento no exceda un factor 3 en la pérdida de resolución:\n",
    "\n",
    "   - `specgroup spectrumset=PN_src_spectrum.fits mincounts=16 oversample=3 rmfset=PN_src.rmf arfset=PN_src.arf backgndset=PN_src_bkg_spectrum.fits groupedset=PN_src_grp.fits`"
   ]
  },
  {
   "cell_type": "code",
   "execution_count": null,
   "id": "e5c999b7-1c1b-4b34-b4dc-c316f7a5130c",
   "metadata": {},
   "outputs": [],
   "source": [
    "!export SAS_ODF=/home/shluna/Proyectos/RX/objetos/rtcru/observaciones/xmm/0920750101"
   ]
  },
  {
   "cell_type": "code",
   "execution_count": null,
   "id": "b2a9eb59-4af1-4035-b5b6-f1879ffe15ea",
   "metadata": {},
   "outputs": [],
   "source": [
    "!echo $SAS_ODF"
   ]
  },
  {
   "cell_type": "code",
   "execution_count": null,
   "id": "fadb0cab-ff79-412f-8c36-6fd066615350",
   "metadata": {},
   "outputs": [],
   "source": [
    "mkdir prueba"
   ]
  },
  {
   "cell_type": "code",
   "execution_count": null,
   "id": "3b65b3d9-8b2e-4790-9d8b-787f0a75d84e",
   "metadata": {},
   "outputs": [],
   "source": [
    "cd prueba"
   ]
  },
  {
   "cell_type": "code",
   "execution_count": null,
   "id": "8a7ae925-678b-4eaf-aacc-cdb89dbcbb0f",
   "metadata": {},
   "outputs": [],
   "source": [
    "!cifbuild"
   ]
  },
  {
   "cell_type": "markdown",
   "id": "0dc5d439-036d-447f-830f-310ecb5e7d93",
   "metadata": {},
   "source": [
    "# Modelado de las observaciones\n",
    "\n",
    "---\n",
    "\n",
    "El modelado de los datos obtenidos mediante las observaciones es de fundamental importancia para entender la física de las fuentes de rayos X.\n",
    "\n",
    "Una vez que se redujeron las observaciones y se obtuvo el espectro agrupado, es posible modelar las observaciones usando PyXspec.\n",
    "\n",
    "En primer lugar, importamos las librerías necesarias."
   ]
  },
  {
   "cell_type": "code",
   "execution_count": 1,
   "id": "3d7322e0-fe0c-4dbd-ac5e-2e6f4f212355",
   "metadata": {},
   "outputs": [],
   "source": [
    "import xspec as xs\n",
    "import matplotlib\n",
    "import numpy as np\n",
    "import matplotlib.pyplot as plt"
   ]
  },
  {
   "cell_type": "code",
   "execution_count": 2,
   "id": "4f256446-aff6-4e9e-b5ee-58b05330a47d",
   "metadata": {},
   "outputs": [],
   "source": [
    "data = \"nu30901002002A01_sr.pha\"\n",
    "# back = \"PN_src_bkg_spectrum.fits\"\n",
    "# rmf = \"PN_src.rmf\"\n",
    "# arf = \"PN_src.arf\""
   ]
  },
  {
   "cell_type": "code",
   "execution_count": 3,
   "id": "b457ba42-47d2-4d34-9498-9b80a6a38813",
   "metadata": {},
   "outputs": [
    {
     "name": "stdout",
     "output_type": "stream",
     "text": [
      "Warning: RMF DETNAM keyword (DET0) is not consistent with that in spectrum (NONE)\n",
      "\n",
      "1 spectrum  in use\n",
      " \n",
      "Spectral Data File: nu30901002002A01_sr.pha  Spectrum 1\n",
      "Net count rate (cts/s) for Spectrum:1  7.410e-01 +/- 3.407e-03 (96.0 % total)\n",
      " Assigned to Data Group 1 and Plot Group 1\n",
      "  Noticed Channels:  1-4096\n",
      "  Telescope: NuSTAR Instrument: FPMA  Channel Type: PI\n",
      "  Exposure Time: 6.699e+04 sec\n",
      " Using fit statistic: chi\n",
      " Using Background File                nu30901002002A01_bk.pha\n",
      "  Background Exposure Time: 6.699e+04 sec\n",
      " Using Response (RMF) File            nu30901002002A01_sr.rmf for Source 1\n",
      " Using Auxiliary Response (ARF) File  nu30901002002A01_sr.arf\n",
      "\n"
     ]
    }
   ],
   "source": [
    "s = xs.Spectrum(data)"
   ]
  },
  {
   "cell_type": "code",
   "execution_count": 5,
   "id": "56dc2f83-14e0-4870-8f5d-28da6354b145",
   "metadata": {},
   "outputs": [
    {
     "name": "stdout",
     "output_type": "stream",
     "text": [
      "    35 channels (1-35) ignored in spectrum #     1\n",
      "  2162 channels (1935-4096) ignored in spectrum #     1\n",
      "\n"
     ]
    }
   ],
   "source": [
    "xs.Plot.device = \"/null\"\n",
    "xs.Plot.xAxis=\"keV\"\n",
    "xs.Plot(\"data\")\n",
    "xs.Plot.setRebin(10,100)\n",
    "s.ignore(\"**-3. 79.-**\")\n",
    "energies = xs.Plot.x()\n",
    "edeltas = xs.Plot.xErr()\n",
    "rates = xs.Plot.y()\n",
    "errors = xs.Plot.yErr()\n",
    "labels = xs.Plot.labels()"
   ]
  },
  {
   "cell_type": "code",
   "execution_count": 6,
   "id": "7765ae54-e2b1-4c34-a030-198013b9b0de",
   "metadata": {},
   "outputs": [
    {
     "data": {
      "text/plain": [
       "<ErrorbarContainer object of 3 artists>"
      ]
     },
     "execution_count": 6,
     "metadata": {},
     "output_type": "execute_result"
    },
    {
     "data": {
      "image/png": "[encoded data removed]",
      "text/plain": [
       "<Figure size 640x480 with 1 Axes>"
      ]
     },
     "metadata": {},
     "output_type": "display_data"
    }
   ],
   "source": [
    "plt.xscale('log')\n",
    "plt.yscale('log')\n",
    "plt.xlabel(labels[0])\n",
    "plt.ylabel(labels[1])\n",
    "plt.title(labels[2])\n",
    "plt.errorbar(energies,rates,xerr=edeltas,yerr=errors,fmt='.')"
   ]
  },
  {
   "cell_type": "code",
   "execution_count": 7,
   "id": "d523d482-a341-4e4b-a044-47f8fbab38bc",
   "metadata": {},
   "outputs": [
    {
     "name": "stdout",
     "output_type": "stream",
     "text": [
      "\n",
      "========================================================================\n",
      "Model phabs<1>(gaussian<2> + powerlaw<3> + bremss<4> + bbody<5>) Source No.: 1   Active/On\n",
      "Model Model Component  Parameter  Unit     Value\n",
      " par  comp\n",
      "   1    1   phabs      nH         10^22    1.00000      +/-  0.0          \n",
      "   2    2   gaussian   LineE      keV      6.50000      +/-  0.0          \n",
      "   3    2   gaussian   Sigma      keV      0.100000     +/-  0.0          \n",
      "   4    2   gaussian   norm                1.00000      +/-  0.0          \n",
      "   5    3   powerlaw   PhoIndex            1.00000      +/-  0.0          \n",
      "   6    3   powerlaw   norm                1.00000      +/-  0.0          \n",
      "   7    4   bremss     kT         keV      7.00000      +/-  0.0          \n",
      "   8    4   bremss     norm                1.00000      +/-  0.0          \n",
      "   9    5   bbody      kT         keV      3.00000      +/-  0.0          \n",
      "  10    5   bbody      norm                1.00000      +/-  0.0          \n",
      "________________________________________________________________________\n",
      "\n",
      "\n",
      "Fit statistic  : Chi-Squared              4.449774e+11     using 1899 bins.\n",
      "\n",
      "***Warning: Chi-square may not be valid due to bins with zero variance\n",
      "            in spectrum number: 1\n",
      "\n",
      "Test statistic : Chi-Squared              4.449774e+11     using 1899 bins.\n",
      "\n",
      "***Warning: Chi-square may not be valid due to bins with zero variance\n",
      "            in spectrum number(s): 1 \n",
      "\n",
      " Null hypothesis probability of 0.000000e+00 with 1889 degrees of freedom\n",
      " Current data and model not fit yet.\n"
     ]
    }
   ],
   "source": [
    "m = xs.Model(\"phabs*(gauss + po + bremss + bb)\")"
   ]
  },
  {
   "cell_type": "code",
   "execution_count": 8,
   "id": "1b9a1029-1645-44d9-b10f-e52b12ca7a9e",
   "metadata": {},
   "outputs": [
    {
     "name": "stdout",
     "output_type": "stream",
     "text": [
      "                                   Parameters\n",
      "Chi-Squared  |beta|/N    Lvl          1:nH       2:LineE       3:Sigma        4:norm    5:PhoIndex        6:norm          7:kT        8:norm          9:kT       10:norm\n",
      "7905.09      1.21178e+06  -1       3.79635       6.47274      0.193978   0.000186738       1.18507   0.000359409       88.2774   0.000833533       4.49610   0.000370746\n",
      "5336.16      1.43517e+06   0       4.20588       6.44755      0.243153   0.000182806       1.19843   0.000391150       28.3482    0.00108149       4.46176   0.000455981\n",
      "3764.18      686808       -1       5.31595       6.39653      0.325836   0.000205529       1.53486   0.000313505       57.3397    0.00196603       5.32643   0.000664850\n",
      "3334.13      114110       -1       7.74270       6.37086      0.359497   0.000219555       1.90231   0.000226736       22.6787    0.00208851       5.73871   0.000820317\n",
      "3077.06      112884       -1       7.34123       6.35372      0.397382   0.000238452       3.50880   0.000270432       7.48372    0.00246097       5.63286   0.000938265\n",
      "3065.26      35106.2       0       7.30514       6.35278      0.399178   0.000239511       3.06767   0.000423541       7.51314    0.00247567       5.62521   0.000937621\n",
      "3043.36      32971.7       0       7.35286       6.34714      0.409756   0.000243433       2.90165   0.000577150       7.43209    0.00251738       5.58448   0.000928326\n",
      "3011.38      32221.3      -1       8.19922       6.33714      0.428718   0.000250933       3.25142    0.00109948       6.53400    0.00273363       5.45472   0.000909228\n",
      "3002.09      13339.4      -1       9.08044       6.33275      0.439444   0.000255540       2.84445    0.00194118       6.03424    0.00294065       5.42331   0.000909883\n",
      "2978.4       19724.8      -2       11.5266       6.33829      0.442140   0.000259988       5.41484    0.00416466       3.83366    0.00535716       5.36978   0.000950868\n",
      "Number of trials exceeded: continue fitting? 2948.94      24673.7      -2       13.5241       6.35488      0.423140   0.000250655       9.20810    0.00202511       3.57926    0.00748803       5.32325   0.000940807\n",
      "2939.11      12964.7      -2       16.8708       6.36798      0.395853   0.000241909       9.49906       20.2793       3.74111    0.00897546       5.31015   0.000946018\n",
      "2937.64      6339.77      -1       17.0771       6.37254      0.379627   0.000236946       9.49971       21.0444       3.73353    0.00918292       5.31439   0.000945999\n",
      "2936.65      2631.81      -1       17.3038       6.37612      0.368248   0.000233120       9.49987       22.0139       3.72914    0.00937967       5.31376   0.000946235\n",
      "2935.79      2597.83      -1       17.5412       6.37869      0.359911   0.000230245       9.49995       23.2061       3.72551    0.00956574       5.31283   0.000946524\n",
      "2935.04      2557.27      -1       17.7810       6.38059      0.353577   0.000228037       9.49999       24.5897       3.72209    0.00974314       5.31180   0.000946850\n",
      "2934.37      2517.2       -1       18.0181       6.38205      0.348567   0.000226278       9.50000       26.1202       3.71879    0.00991285       5.31074   0.000947198\n",
      "2933.78      2496.26      -1       18.2491       6.38322      0.344447   0.000224827       9.50000       27.7524       3.71531     0.0100760       5.30964   0.000947558\n",
      "2933.27      2492.58      -1       18.4721       6.38420      0.340944   0.000223594       9.50000       29.4462       3.71151     0.0102333       5.30852   0.000947925\n",
      "2932.82      2502.28      -1       18.6864       6.38504      0.337874   0.000222511       9.50000       31.1738       3.70760     0.0103849       5.30741   0.000948290\n",
      "Number of trials exceeded: continue fitting? 2932.41      2524.37      -1       18.8918       6.38579      0.335120   0.000221539       9.50000       32.9144       3.70362     0.0105309       5.30632   0.000948649\n",
      "2932.06      2554.49      -1       19.0883       6.38645      0.332608   0.000220653       9.50000       34.6531       3.69962     0.0106716       5.30525   0.000949000\n",
      "2931.74      2588.71      -1       19.2759       6.38705      0.330289   0.000219835       9.50000       36.3790       3.69561     0.0108072       5.30420   0.000949341\n",
      "2931.46      2625.53      -1       19.4551       6.38760      0.328130   0.000219074       9.50000       38.0845       3.69165     0.0109376       5.30319   0.000949671\n",
      "2931.21      2664.37      -1       19.6262       6.38811      0.326109   0.000218361       9.50000       39.7642       3.68776     0.0110631       5.30221   0.000949991\n",
      "2930.99      2703.67      -1       19.7894       6.38858      0.324208   0.000217691       9.50000       41.4142       3.68396     0.0111838       5.30126   0.000950298\n",
      "2930.79      2742.49      -1       19.9452       6.38901      0.322417   0.000217059       9.50000       43.0316       3.68026     0.0112998       5.30035   0.000950594\n",
      "2930.62      2780.95      -1       20.0940       6.38941      0.320721   0.000216459       9.50000       44.6157       3.67679     0.0114111       5.29949   0.000950877\n",
      "2930.46      2819.49      -1       20.2359       6.38979      0.319116   0.000215893       9.50000       46.1655       3.67341     0.0115179       5.29865   0.000951148\n",
      "2930.33      2855.47      -1       20.3712       6.39013      0.317600   0.000215358       9.50000       47.6759       3.67005     0.0116206       5.29784   0.000951411\n",
      "Number of trials exceeded: continue fitting? 2930.21      2891.41      -1       20.5002       6.39046      0.316163   0.000214851       9.50000       49.1471       3.66684     0.0117191       5.29706   0.000951662\n",
      "2930.1       2926.8       -1       20.6234       6.39076      0.314799   0.000214370       9.50000       50.5791       3.66377     0.0118136       5.29632   0.000951903\n",
      "2930.01      2961.33      -1       20.7409       6.39104      0.313506   0.000213913       9.50000       51.9718       3.66084     0.0119041       5.29561   0.000952133\n",
      "2929.93      2994.37      -1       20.8531       6.39131      0.312277   0.000213478       9.50000       53.3251       3.65805     0.0119909       5.29493   0.000952353\n",
      "2929.86      3025.93      -1       20.9601       6.39156      0.311109   0.000213066       9.50000       54.6391       3.65539     0.0120739       5.29428   0.000952564\n",
      "2929.8       3057.34      -1       21.0623       6.39179      0.310000   0.000212673       9.50000       55.9140       3.65286     0.0121535       5.29366   0.000952765\n",
      "2929.75      3086.63      -1       21.1598       6.39200      0.308945   0.000212300       9.50000       57.1497       3.65045     0.0122296       5.29307   0.000952957\n",
      "2929.7       3115.56      -1       21.2528       6.39221      0.307942   0.000211945       9.50000       58.3467       3.64817     0.0123024       5.29251   0.000953140\n",
      "2929.66      3143.06      -1       21.3415       6.39240      0.306988   0.000211607       9.50000       59.5051       3.64600     0.0123721       5.29198   0.000953315\n",
      "2929.63      3169.97      -1       21.4262       6.39258      0.306080   0.000211286       9.50000       60.6254       3.64394     0.0124387       5.29146   0.000953482\n",
      "Number of trials exceeded: continue fitting? 2929.6       3195.01      -1       21.5070       6.39275      0.305217   0.000210980       9.50000       61.7083       3.64199     0.0125025       5.29098   0.000953641\n",
      "2929.58      3220.11      -1       21.5842       6.39290      0.304393   0.000210688       9.50000       62.7554       3.64021     0.0125632       5.29052   0.000953791\n",
      "2929.56      3243.82      -1       21.6578       6.39305      0.303609   0.000210409       9.50000       63.7668       3.63851     0.0126212       5.29008   0.000953935\n",
      "2929.55      3265.84      -1       21.7280       6.39319      0.302863   0.000210145       9.50000       64.7441       3.63689     0.0126767       5.28967   0.000954072\n",
      "2929.54      3287.78      -1       21.7950       6.39332      0.302153   0.000209893       9.50000       65.6855       3.63535     0.0127297       5.28927   0.000954203\n",
      "==========================================================================================\n",
      " Variances and Principal Axes\n",
      "                 1        2        3        4        5        6        7        8        9       10  \n",
      " 3.3231E-11| -0.0000   0.0000  -0.0000   0.2888  -0.0000   0.0000   0.0001   0.0166  -0.0002   0.9572  \n",
      " 6.6600E-11|  0.0000  -0.0001   0.0002  -0.9572   0.0000  -0.0000  -0.0001  -0.0129   0.0000   0.2890  \n",
      " 5.2364E-08| -0.0009  -0.0012   0.0036  -0.0171  -0.0017   0.0000   0.0042   0.9998  -0.0029  -0.0122  \n",
      " 3.0563E-04|  0.0025   0.8943   0.4447   0.0001   0.0098  -0.0001   0.0198  -0.0008  -0.0456  -0.0000  \n",
      " 5.5172E-04|  0.0147  -0.4452   0.8932   0.0003   0.0574  -0.0007   0.0219  -0.0037   0.0025   0.0000  \n",
      " 1.2225E-03|  0.0090  -0.0409  -0.0274  -0.0000   0.0914  -0.0011   0.1504  -0.0032  -0.9831  -0.0001  \n",
      " 1.2357E-02| -0.1825  -0.0198   0.0602   0.0000  -0.9304   0.0119  -0.2818  -0.0012  -0.1322   0.0000  \n",
      " 1.0287E-01| -0.1435  -0.0078  -0.0074  -0.0000  -0.2746   0.0051   0.9434  -0.0042   0.1180  -0.0000  \n",
      " 2.0455E+01|  0.9725  -0.0001  -0.0042  -0.0000  -0.2167   0.0109   0.0845   0.0002   0.0018  -0.0000  \n",
      " 4.0817E+04| -0.0077   0.0000  -0.0000  -0.0000   0.0149   0.9999  -0.0022   0.0000  -0.0001   0.0000  \n",
      "------------------------------------------------------------------------------------------\n",
      "\n",
      "========================================================================================================================\n",
      "  Covariance Matrix\n",
      "        1           2           3           4           5           6           7           8           9          10   \n",
      "   2.174e+01  -8.252e-03  -8.114e-02  -1.623e-05  -8.975e+00  -3.124e+02   2.360e+00   6.411e-04   6.708e-02  -8.090e-06\n",
      "  -8.252e-03   3.874e-04  -1.042e-04  -7.806e-08   1.436e-02   9.106e-01  -2.839e-03   1.214e-05  -1.234e-04   3.077e-08\n",
      "  -8.114e-02  -1.042e-04   9.085e-04   2.883e-07   1.455e-02  -2.334e-01  -7.613e-03  -1.555e-05  -2.922e-04   2.823e-08\n",
      "  -1.623e-05  -7.806e-08   2.883e-07   2.031e-10  -9.110e-06  -9.372e-04  -7.903e-07  -1.117e-08  -8.712e-08   4.581e-12\n",
      "  -8.975e+00   1.436e-02   1.455e-02  -9.110e-06   1.009e+01   6.095e+02  -1.746e+00   4.650e-03  -7.277e-02   1.458e-05\n",
      "  -3.124e+02   9.106e-01  -2.334e-01  -9.372e-04   6.095e+02   4.080e+04  -9.023e+01   3.512e-01  -4.200e+00   9.303e-04\n",
      "   2.360e+00  -2.839e-03  -7.613e-03  -7.903e-07  -1.746e+00  -9.023e+01   4.384e-01  -8.948e-04   2.418e-02  -4.038e-06\n",
      "   6.411e-04   1.214e-05  -1.555e-05  -1.117e-08   4.650e-03   3.512e-01  -8.948e-04   5.463e-06  -7.485e-05   1.563e-08\n",
      "   6.708e-02  -1.234e-04  -2.922e-04  -8.712e-08  -7.277e-02  -4.200e+00   2.418e-02  -7.485e-05   3.332e-03  -1.654e-07\n",
      "  -8.090e-06   3.077e-08   2.823e-08   4.581e-12   1.458e-05   9.303e-04  -4.038e-06   1.563e-08  -1.654e-07   1.281e-10\n",
      "------------------------------------------------------------------------------------------------------------------------\n",
      "\n",
      "========================================================================\n",
      "Model phabs<1>(gaussian<2> + powerlaw<3> + bremss<4> + bbody<5>) Source No.: 1   Active/On\n",
      "Model Model Component  Parameter  Unit     Value\n",
      " par  comp\n",
      "   1    1   phabs      nH         10^22    21.7950      +/-  4.66290      \n",
      "   2    2   gaussian   LineE      keV      6.39332      +/-  1.96819E-02  \n",
      "   3    2   gaussian   Sigma      keV      0.302153     +/-  3.01419E-02  \n",
      "   4    2   gaussian   norm                2.09893E-04  +/-  1.42517E-05  \n",
      "   5    3   powerlaw   PhoIndex            9.50000      +/-  3.17576      \n",
      "   6    3   powerlaw   norm                65.6855      +/-  202.002      \n",
      "   7    4   bremss     kT         keV      3.63535      +/-  0.662110     \n",
      "   8    4   bremss     norm                1.27297E-02  +/-  2.33734E-03  \n",
      "   9    5   bbody      kT         keV      5.28927      +/-  5.77230E-02  \n",
      "  10    5   bbody      norm                9.54203E-04  +/-  1.13199E-05  \n",
      "________________________________________________________________________\n",
      "\n",
      "\n",
      "Fit statistic  : Chi-Squared                 2929.54     using 1899 bins.\n",
      "\n",
      "***Warning: Chi-square may not be valid due to bins with zero variance\n",
      "            in spectrum number: 1\n",
      "\n",
      "Test statistic : Chi-Squared                 2929.54     using 1899 bins.\n",
      "\n",
      "***Warning: Chi-square may not be valid due to bins with zero variance\n",
      "            in spectrum number(s): 1 \n",
      "\n",
      " Null hypothesis probability of 2.57e-48 with 1889 degrees of freedom\n"
     ]
    }
   ],
   "source": [
    "xs.Fit.perform()"
   ]
  },
  {
   "cell_type": "code",
   "execution_count": null,
   "id": "6eee7fc2-6e0c-4854-9c8c-f19d30865905",
   "metadata": {},
   "outputs": [],
   "source": [
    "xs.Fit.renorm()"
   ]
  },
  {
   "cell_type": "code",
   "execution_count": 9,
   "id": "de72acbc-89d2-4bb2-9b02-972de4777e18",
   "metadata": {},
   "outputs": [],
   "source": [
    "xs.Plot(\"data resid\")\n",
    "energies = xs.Plot.x()\n",
    "edeltas = xs.Plot.xErr()\n",
    "rates = xs.Plot.y(1,1)\n",
    "errors = xs.Plot.yErr(1,1)\n",
    "foldedmodel = xs.Plot.model()\n",
    "dataLabels = xs.Plot.labels(1)\n",
    "residLabels = xs.Plot.labels(2)\n",
    "# note that for matplotlib step plots we need an x-axis array which includes the start and end value for each\n",
    "# bin and the y-axis has to be the same size with an extra value added equal to the value of the last bin\n",
    "nE = len(energies)\n",
    "stepenergies = list()\n",
    "for i in range(nE):\n",
    "    stepenergies.append(energies[i] - edeltas[i])\n",
    "stepenergies.append(energies[-1]+edeltas[-1])\n",
    "foldedmodel.append(foldedmodel[-1])\n",
    "resid = xs.Plot.y(1,2)\n",
    "residerr = xs.Plot.yErr(1,2)"
   ]
  },
  {
   "cell_type": "code",
   "execution_count": 10,
   "id": "7b262ee7-36f3-4d42-9569-8a7c4fedec6f",
   "metadata": {},
   "outputs": [
    {
     "data": {
      "text/plain": [
       "<matplotlib.collections.LineCollection at 0x7cd2ce1a4e80>"
      ]
     },
     "execution_count": 10,
     "metadata": {},
     "output_type": "execute_result"
    },
    {
     "data": {
      "image/png": "[encoded data removed]",
      "text/plain": [
       "<Figure size 640x480 with 2 Axes>"
      ]
     },
     "metadata": {},
     "output_type": "display_data"
    }
   ],
   "source": [
    "plt.subplot(211)\n",
    "plt.xscale('log')\n",
    "plt.yscale('log')\n",
    "plt.ylabel(dataLabels[1])\n",
    "plt.title(dataLabels[2])\n",
    "plt.errorbar(energies,rates,xerr=edeltas,yerr=errors,fmt='.')\n",
    "plt.step(stepenergies,foldedmodel,where='post')\n",
    "plt.subplot(212)\n",
    "plt.xscale('log')\n",
    "plt.xlabel(residLabels[0])\n",
    "plt.ylabel(residLabels[1])\n",
    "plt.errorbar(energies,resid,xerr=edeltas,yerr=residerr,fmt='.')\n",
    "plt.hlines(0.0,stepenergies[0],stepenergies[-1],linestyles='dashed')"
   ]
  },
  {
   "cell_type": "code",
   "execution_count": null,
   "id": "b74aa4ce-ebf6-4657-9449-d96a9ab1ffe3",
   "metadata": {},
   "outputs": [],
   "source": []
  }
 ],
 "metadata": {
  "kernelspec": {
   "display_name": "Python 3 (ipykernel)",
   "language": "python",
   "name": "python3"
  },
  "language_info": {
   "codemirror_mode": {
    "name": "ipython",
    "version": 3
   },
   "file_extension": ".py",
   "mimetype": "text/x-python",
   "name": "python",
   "nbconvert_exporter": "python",
   "pygments_lexer": "ipython3",
   "version": "3.10.12"
  }
 },
 "nbformat": 4,
 "nbformat_minor": 5
}
